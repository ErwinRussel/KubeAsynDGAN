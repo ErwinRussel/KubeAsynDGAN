{
 "cells": [
  {
   "cell_type": "code",
   "execution_count": 44,
   "id": "6f48b484",
   "metadata": {},
   "outputs": [],
   "source": [
    "import torch, torchvision\n",
    "import torchvision.datasets as datasets\n",
    "from torchvision import transforms\n",
    "from torch.utils.data import DataLoader\n",
    "import numpy as np\n",
    "\n",
    "import torch\n",
    "import torch.nn as nn\n",
    "import torch.nn.functional as F\n",
    "import torch.optim as optim\n",
    "from torchvision import datasets, transforms\n",
    "from torch.autograd import Variable\n",
    "from torchvision.utils import save_image\n",
    "\n",
    "# Device configuration\n",
    "device = torch.device('cuda' if torch.cuda.is_available() else 'cpu')"
   ]
  },
  {
   "cell_type": "markdown",
   "id": "9bf8d159",
   "metadata": {},
   "source": [
    "# Generating the dataset\n",
    "This part of the notebook is encoded in `generate_dataset.py` and served as a exploration notebook. "
   ]
  },
  {
   "cell_type": "code",
   "execution_count": 45,
   "id": "23712536",
   "metadata": {},
   "outputs": [],
   "source": [
    "transform = transforms.Compose([transforms.ToTensor(),\n",
    "                                transforms.Normalize((0.1307,), (0.3081,))])\n",
    "\n",
    "mnist_trainset = datasets.MNIST(root='./data', train=True, download=False, transform=transform)\n",
    "mnist_testset = datasets.MNIST(root='./data', train=False, download=False, transform=transform)"
   ]
  },
  {
   "cell_type": "code",
   "execution_count": 46,
   "id": "e0006ca3",
   "metadata": {},
   "outputs": [],
   "source": [
    "train_loader = DataLoader(mnist_trainset, batch_size=len(mnist_trainset))\n",
    "test_loader = DataLoader(mnist_testset, batch_size=len(mnist_testset))"
   ]
  },
  {
   "cell_type": "code",
   "execution_count": 47,
   "id": "018c8a57",
   "metadata": {},
   "outputs": [
    {
     "data": {
      "text/plain": [
       "(10000, 1, 28, 28)"
      ]
     },
     "execution_count": 47,
     "metadata": {},
     "output_type": "execute_result"
    }
   ],
   "source": [
    "next(iter(test_loader))[0].numpy().shape"
   ]
  },
  {
   "cell_type": "code",
   "execution_count": 48,
   "id": "2034f1d0",
   "metadata": {},
   "outputs": [],
   "source": [
    "train_dataset_array = next(iter(train_loader))[1].numpy()"
   ]
  },
  {
   "cell_type": "code",
   "execution_count": 49,
   "id": "e7f5cdad",
   "metadata": {},
   "outputs": [],
   "source": [
    "x_train = next(iter(train_loader))[0].numpy()\n",
    "y_train = next(iter(train_loader))[1].numpy()\n",
    "x_test = next(iter(test_loader))[0].numpy()\n",
    "y_test = next(iter(test_loader))[1].numpy()"
   ]
  },
  {
   "cell_type": "code",
   "execution_count": 50,
   "id": "b64bf4de",
   "metadata": {},
   "outputs": [],
   "source": [
    "np.save(\"x_train\", x_train)\n",
    "np.save(\"y_train\", y_train)\n",
    "np.save(\"x_test\", x_test)\n",
    "np.save(\"y_test\", y_test)"
   ]
  },
  {
   "cell_type": "code",
   "execution_count": 73,
   "id": "61801df7",
   "metadata": {},
   "outputs": [
    {
     "data": {
      "text/plain": [
       "(60000,)"
      ]
     },
     "execution_count": 73,
     "metadata": {},
     "output_type": "execute_result"
    }
   ],
   "source": [
    "train_dataset_array.shape"
   ]
  },
  {
   "cell_type": "markdown",
   "id": "12b15aa0",
   "metadata": {},
   "source": [
    "# Get the generator"
   ]
  },
  {
   "cell_type": "code",
   "execution_count": 51,
   "id": "4981ca55",
   "metadata": {},
   "outputs": [],
   "source": [
    "class Generator(nn.Module):\n",
    "    def __init__(self, g_input_dim, g_output_dim):\n",
    "        super(Generator, self).__init__()       \n",
    "        self.fc1 = nn.Linear(g_input_dim, 256)\n",
    "        self.fc2 = nn.Linear(self.fc1.out_features, self.fc1.out_features*2)\n",
    "        self.fc3 = nn.Linear(self.fc2.out_features, self.fc2.out_features*2)\n",
    "        self.fc4 = nn.Linear(self.fc3.out_features, g_output_dim)\n",
    "    \n",
    "    # forward method\n",
    "    def forward(self, x): \n",
    "        x = F.leaky_relu(self.fc1(x), 0.2)\n",
    "        x = F.leaky_relu(self.fc2(x), 0.2)\n",
    "        x = F.leaky_relu(self.fc3(x), 0.2)\n",
    "        return torch.tanh(self.fc4(x))"
   ]
  },
  {
   "cell_type": "code",
   "execution_count": 52,
   "id": "936b083d",
   "metadata": {},
   "outputs": [],
   "source": [
    "# build network\n",
    "z_dim = 100\n",
    "mnist_dim = mnist_trainset.train_data.size(1) * mnist_trainset.train_data.size(2)\n",
    "\n",
    "G = Generator(g_input_dim = z_dim, g_output_dim = mnist_dim).to(device)"
   ]
  },
  {
   "cell_type": "code",
   "execution_count": 53,
   "id": "1ecf451c",
   "metadata": {},
   "outputs": [
    {
     "data": {
      "text/plain": [
       "Generator(\n",
       "  (fc1): Linear(in_features=100, out_features=256, bias=True)\n",
       "  (fc2): Linear(in_features=256, out_features=512, bias=True)\n",
       "  (fc3): Linear(in_features=512, out_features=1024, bias=True)\n",
       "  (fc4): Linear(in_features=1024, out_features=784, bias=True)\n",
       ")"
      ]
     },
     "execution_count": 53,
     "metadata": {},
     "output_type": "execute_result"
    }
   ],
   "source": [
    "G"
   ]
  },
  {
   "cell_type": "code",
   "execution_count": 54,
   "id": "809ff340",
   "metadata": {},
   "outputs": [],
   "source": [
    "x_real = next(iter(train_loader))[0].numpy()[:1000]"
   ]
  },
  {
   "cell_type": "code",
   "execution_count": 55,
   "id": "5b08bc19",
   "metadata": {},
   "outputs": [
    {
     "data": {
      "text/plain": [
       "1000"
      ]
     },
     "execution_count": 55,
     "metadata": {},
     "output_type": "execute_result"
    }
   ],
   "source": [
    "len(x_real)"
   ]
  },
  {
   "cell_type": "code",
   "execution_count": 56,
   "id": "8dbeeb87",
   "metadata": {
    "scrolled": true
   },
   "outputs": [
    {
     "data": {
      "image/png": "[encoded data removed]",
      "text/plain": [
       "<Figure size 432x288 with 1 Axes>"
      ]
     },
     "metadata": {
      "needs_background": "light"
     },
     "output_type": "display_data"
    }
   ],
   "source": [
    "import matplotlib.pyplot as plt\n",
    "plt.imshow(x_real[0][0])\n",
    "plt.show()"
   ]
  },
  {
   "cell_type": "code",
   "execution_count": 57,
   "id": "5338b525",
   "metadata": {},
   "outputs": [
    {
     "data": {
      "text/plain": [
       "Generator(\n",
       "  (fc1): Linear(in_features=100, out_features=256, bias=True)\n",
       "  (fc2): Linear(in_features=256, out_features=512, bias=True)\n",
       "  (fc3): Linear(in_features=512, out_features=1024, bias=True)\n",
       "  (fc4): Linear(in_features=1024, out_features=784, bias=True)\n",
       ")"
      ]
     },
     "execution_count": 57,
     "metadata": {},
     "output_type": "execute_result"
    }
   ],
   "source": [
    "PATH = \"latest_model\"\n",
    "G = Generator(g_input_dim = 100, g_output_dim = 784).to(device)\n",
    "G.load_state_dict(torch.load(PATH))\n",
    "G.eval()"
   ]
  },
  {
   "cell_type": "code",
   "execution_count": 58,
   "id": "021b7dad",
   "metadata": {},
   "outputs": [],
   "source": [
    "bs = 1\n",
    "\n",
    "x_fake = []\n",
    "\n",
    "for i in range(1000):\n",
    "    # Can we make the batch size bigger?\n",
    "    z = Variable(torch.randn(bs, z_dim).to(device))\n",
    "    x_f = G(z).detach().numpy().reshape(1,28,28)\n",
    "    x_fake.append(x_f)\n",
    "    \n",
    "x_fake = np.array(x_fake)"
   ]
  },
  {
   "cell_type": "code",
   "execution_count": 59,
   "id": "13d94d77",
   "metadata": {},
   "outputs": [
    {
     "data": {
      "text/plain": [
       "(1000, 1, 28, 28)"
      ]
     },
     "execution_count": 59,
     "metadata": {},
     "output_type": "execute_result"
    }
   ],
   "source": [
    "x_fake.shape"
   ]
  },
  {
   "cell_type": "code",
   "execution_count": 60,
   "id": "e3fab183",
   "metadata": {},
   "outputs": [
    {
     "data": {
      "text/plain": [
       "(1000, 1, 28, 28)"
      ]
     },
     "execution_count": 60,
     "metadata": {},
     "output_type": "execute_result"
    }
   ],
   "source": [
    "x_real.shape"
   ]
  },
  {
   "cell_type": "code",
   "execution_count": 61,
   "id": "49d2e9ac",
   "metadata": {},
   "outputs": [],
   "source": [
    "x_train = np.stack((x_fake,x_real), axis=2)"
   ]
  },
  {
   "cell_type": "code",
   "execution_count": 62,
   "id": "1655f38f",
   "metadata": {},
   "outputs": [
    {
     "data": {
      "text/plain": [
       "(1, 2, 28, 28)"
      ]
     },
     "execution_count": 62,
     "metadata": {},
     "output_type": "execute_result"
    }
   ],
   "source": [
    "x_train[0].shape"
   ]
  },
  {
   "cell_type": "code",
   "execution_count": 72,
   "id": "cb6b9f1c",
   "metadata": {},
   "outputs": [
    {
     "data": {
      "image/png": "[encoded data removed]",
      "text/plain": [
       "<Figure size 432x288 with 1 Axes>"
      ]
     },
     "metadata": {
      "needs_background": "light"
     },
     "output_type": "display_data"
    }
   ],
   "source": [
    "import matplotlib.pyplot as plt\n",
    "plt.imshow(x_train[50][0][0])\n",
    "plt.show()"
   ]
  },
  {
   "cell_type": "code",
   "execution_count": 108,
   "id": "72c55556",
   "metadata": {},
   "outputs": [],
   "source": [
    "# np.save(\"x_real\", x_real)\n",
    "np.save(\"x_fake\", x_fake)"
   ]
  },
  {
   "cell_type": "code",
   "execution_count": 109,
   "id": "d9789392",
   "metadata": {},
   "outputs": [
    {
     "data": {
      "text/plain": [
       "(1, 784)"
      ]
     },
     "execution_count": 109,
     "metadata": {},
     "output_type": "execute_result"
    }
   ],
   "source": [
    "x_fake[0].reshape(1,784).shape"
   ]
  },
  {
   "cell_type": "code",
   "execution_count": 110,
   "id": "482b7c13",
   "metadata": {},
   "outputs": [
    {
     "data": {
      "text/plain": [
       "(1, 28, 28)"
      ]
     },
     "execution_count": 110,
     "metadata": {},
     "output_type": "execute_result"
    }
   ],
   "source": [
    "x_fake[1].shape"
   ]
  },
  {
   "cell_type": "markdown",
   "id": "d2354912",
   "metadata": {},
   "source": [
    "# Creating Inference Dataset\n",
    "The following is an exploratory notebook used in the file ``"
   ]
  },
  {
   "cell_type": "code",
   "execution_count": 56,
   "id": "08d729b1",
   "metadata": {},
   "outputs": [],
   "source": [
    "import json"
   ]
  },
  {
   "cell_type": "code",
   "execution_count": 58,
   "id": "ad8d9934",
   "metadata": {},
   "outputs": [],
   "source": [
    "json_str = json.dumps(x_fake.tolist())"
   ]
  },
  {
   "cell_type": "code",
   "execution_count": 63,
   "id": "a090b315",
   "metadata": {},
   "outputs": [
    {
     "data": {
      "text/plain": [
       "str"
      ]
     },
     "execution_count": 63,
     "metadata": {},
     "output_type": "execute_result"
    }
   ],
   "source": [
    "type(json_str)"
   ]
  },
  {
   "cell_type": "code",
   "execution_count": 64,
   "id": "9b5857e2",
   "metadata": {},
   "outputs": [],
   "source": [
    "with open(\"inference.json\", \"w\") as f:\n",
    "    f.write(json_str)"
   ]
  },
  {
   "cell_type": "code",
   "execution_count": null,
   "id": "e356c44d",
   "metadata": {},
   "outputs": [],
   "source": []
  }
 ],
 "metadata": {
  "kernelspec": {
   "display_name": "Python 3",
   "language": "python",
   "name": "python3"
  },
  "language_info": {
   "codemirror_mode": {
    "name": "ipython",
    "version": 3
   },
   "file_extension": ".py",
   "mimetype": "text/x-python",
   "name": "python",
   "nbconvert_exporter": "python",
   "pygments_lexer": "ipython3",
   "version": "3.9.5"
  }
 },
 "nbformat": 4,
 "nbformat_minor": 5
}
